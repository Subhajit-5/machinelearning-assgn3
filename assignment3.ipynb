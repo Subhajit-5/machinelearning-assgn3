{
 "cells": [
  {
   "cell_type": "code",
   "execution_count": 2,
   "metadata": {},
   "outputs": [
    {
     "name": "stdout",
     "output_type": "stream",
     "text": [
      "Enter a number5\n",
      "Cannot be devided by zero\n"
     ]
    }
   ],
   "source": [
    "def caldevision(value):\n",
    "    try:\n",
    "        result=int(value)/0\n",
    "    except ZeroDivisionError:\n",
    "        print('Cannot be devided by zero')\n",
    "value=input('Enter a number')\n",
    "caldevision(value)"
   ]
  },
  {
   "cell_type": "code",
   "execution_count": 3,
   "metadata": {},
   "outputs": [
    {
     "name": "stdout",
     "output_type": "stream",
     "text": [
      "Americans play Baseball\n",
      "Americans play Circket\n",
      "Americans watch Baseball\n",
      "Americans watch Circket\n",
      "Indians play Baseball\n",
      "Indians play Circket\n",
      "Indians watch Baseball\n",
      "Indians watch Circket\n"
     ]
    }
   ],
   "source": [
    "subject=['Americans','Indians']\n",
    "verbs=['play','watch']\n",
    "objects=['Baseball',\"Circket\"]\n",
    "result=[i+' '+j+' '+k for i in subject for j in verbs for k in objects]\n",
    "for i in result:\n",
    "    print(i)"
   ]
  },
  {
   "cell_type": "code",
   "execution_count": 4,
   "metadata": {},
   "outputs": [
    {
     "data": {
      "text/plain": [
       "array([[ 1,  1,  1],\n",
       "       [ 1,  3,  9],\n",
       "       [ 1,  4, 16]])"
      ]
     },
     "execution_count": 4,
     "metadata": {},
     "output_type": "execute_result"
    }
   ],
   "source": [
    "import numpy\n",
    "vector=[1,3,4]\n",
    "result=[[i**j for j in range(0,3)]for i in vector]\n",
    "matrix = numpy.array(result)\n",
    "matrix"
   ]
  },
  {
   "cell_type": "code",
   "execution_count": null,
   "metadata": {},
   "outputs": [],
   "source": []
  }
 ],
 "metadata": {
  "kernelspec": {
   "display_name": "Python 3",
   "language": "python",
   "name": "python3"
  },
  "language_info": {
   "codemirror_mode": {
    "name": "ipython",
    "version": 3
   },
   "file_extension": ".py",
   "mimetype": "text/x-python",
   "name": "python",
   "nbconvert_exporter": "python",
   "pygments_lexer": "ipython3",
   "version": "3.7.3"
  }
 },
 "nbformat": 4,
 "nbformat_minor": 2
}
